{
 "cells": [
  {
   "cell_type": "markdown",
   "metadata": {},
   "source": [
    "# Examining weather trends for Brussels and the world\n",
    "> Project submission by M Bosquet as part of Udacity Data Analyst Nanodegree\n",
    "\n",
    "This short report provides an overview of the steps taken to prepare the retrieved data to be visualized and observed, as outlined for the project.\n",
    "\n",
    "## 1 Approach Outline\n",
    "\n",
    "The following steps were taken to access and prepare the raw data from the database provided.\n",
    "\n",
    "### 1.1. Tools used\n",
    "- **SQL** to access data from the database provided and export as .csv files.\n",
    "- **Excel** to combine global and individual city data, calculate moving averages and create line plots of temperature trends.\n",
    "- **Python** for further analysis and visualizations (incl. warming stripes, correlation plotsand determination of correlation coefficient)."
   ]
  },
  {
   "cell_type": "markdown",
   "metadata": {},
   "source": [
    "### 1.2. SQL Queries\n",
    "Two queries were run in order to retrieve the raw data from the provided database. The first query was aimed at accessing the data from the global_data table, through the query:"
   ]
  },
  {
   "cell_type": "markdown",
   "metadata": {},
   "source": [
    " `SELECT *\n",
    "     FROM global_dat`"
   ]
  },
  {
   "cell_type": "markdown",
   "metadata": {},
   "source": [
    "With the second query the data from a selection of cities of interest were retrieved:"
   ]
  },
  {
   "cell_type": "markdown",
   "metadata": {},
   "source": [
    " `SELECT year, city, avg_temp\n",
    "     FROM city_data`\n",
    " \n",
    " `WHERE city = 'Berlin' OR city = 'New York' OR city = 'Tokyo' OR \n",
    "       city = 'Brussels' OR city = 'Wellington'`\n",
    "\n",
    " `ORDER BY year`"
   ]
  },
  {
   "cell_type": "markdown",
   "metadata": {},
   "source": [
    "## 2 Analysis"
   ]
  },
  {
   "cell_type": "markdown",
   "metadata": {},
   "source": [
    "## 3 Key Observations"
   ]
  }
 ],
 "metadata": {
  "kernelspec": {
   "display_name": "Python 3",
   "language": "python",
   "name": "python3"
  },
  "language_info": {
   "codemirror_mode": {
    "name": "ipython",
    "version": 3
   },
   "file_extension": ".py",
   "mimetype": "text/x-python",
   "name": "python",
   "nbconvert_exporter": "python",
   "pygments_lexer": "ipython3",
   "version": "3.6.5"
  }
 },
 "nbformat": 4,
 "nbformat_minor": 2
}
