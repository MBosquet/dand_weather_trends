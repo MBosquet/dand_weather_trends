{
 "cells": [
  {
   "cell_type": "markdown",
   "metadata": {},
   "source": [
    "# Examining weather trends for Brussels and the world\n",
    "> Project submission by M Bosquet as part of Udacity Data Analyst Nanodegree\n",
    "\n",
    "This short report provides an overview of the steps taken to prepare the retrieved data to be visualized and observed, as outlined for the project.\n",
    "\n",
    "## 1 Approach Outline\n",
    "\n",
    "The following steps were taken to access and prepare the raw data from the database provided.\n",
    "\n",
    "### 1.1. Tools used\n",
    "- **SQL** to access data from the database provided and export as .csv files.\n",
    "- **Excel** to combine global and individual city data, calculate moving averages and create line plots of temperature trends.\n",
    "- **Python** for further analysis and visualizations (incl. warming stripes, correlation plotsand determination of correlation coefficient)."
   ]
  },
  {
   "cell_type": "markdown",
   "metadata": {},
   "source": [
    "### 1.2. SQL Queries\n",
    "Two queries were run in order to retrieve the raw data from the provided database. The first query was aimed at accessing the data from the global_data table, through the query:"
   ]
  },
  {
   "cell_type": "markdown",
   "metadata": {},
   "source": [
    " `SELECT *\n",
    "     FROM global_dat`"
   ]
  },
  {
   "cell_type": "markdown",
   "metadata": {},
   "source": [
    "With the second query the data from a selection of cities of interest were retrieved:"
   ]
  },
  {
   "cell_type": "markdown",
   "metadata": {},
   "source": [
    " `SELECT year, city, avg_temp\n",
    "     FROM city_data`\n",
    " \n",
    " `WHERE city = 'Berlin' OR city = 'New York' OR city = 'Tokyo' OR \n",
    "       city = 'Brussels' OR city = 'Wellington'`\n",
    "\n",
    " `ORDER BY year`"
   ]
  },
  {
   "cell_type": "markdown",
   "metadata": {},
   "source": [
    "## 2 Analysis\n",
    "\n",
    "> *Missing - short intro*"
   ]
  },
  {
   "cell_type": "code",
   "execution_count": 1,
   "metadata": {},
   "outputs": [],
   "source": [
    "import pandas as pd\n",
    "import numpy as np\n",
    "import matplotlib.pyplot as plt\n",
    "import seaborn as sns\n",
    "%matplotlib inline\n",
    "sns.set_style('darkgrid')"
   ]
  },
  {
   "cell_type": "code",
   "execution_count": 7,
   "metadata": {},
   "outputs": [
    {
     "data": {
      "text/html": [
       "<div>\n",
       "<style scoped>\n",
       "    .dataframe tbody tr th:only-of-type {\n",
       "        vertical-align: middle;\n",
       "    }\n",
       "\n",
       "    .dataframe tbody tr th {\n",
       "        vertical-align: top;\n",
       "    }\n",
       "\n",
       "    .dataframe thead th {\n",
       "        text-align: right;\n",
       "    }\n",
       "</style>\n",
       "<table border=\"1\" class=\"dataframe\">\n",
       "  <thead>\n",
       "    <tr style=\"text-align: right;\">\n",
       "      <th></th>\n",
       "      <th>avg_temp_global</th>\n",
       "      <th>avg_temp_Berlin</th>\n",
       "      <th>avg_temp_NewYork</th>\n",
       "      <th>avg_temp_Tokyo</th>\n",
       "      <th>avg_temp_Wellington</th>\n",
       "      <th>avg_temp_Brussels</th>\n",
       "    </tr>\n",
       "    <tr>\n",
       "      <th>year</th>\n",
       "      <th></th>\n",
       "      <th></th>\n",
       "      <th></th>\n",
       "      <th></th>\n",
       "      <th></th>\n",
       "      <th></th>\n",
       "    </tr>\n",
       "  </thead>\n",
       "  <tbody>\n",
       "    <tr>\n",
       "      <th>1759</th>\n",
       "      <td>8.030</td>\n",
       "      <td>8.595</td>\n",
       "      <td>8.567</td>\n",
       "      <td>NaN</td>\n",
       "      <td>NaN</td>\n",
       "      <td>9.545</td>\n",
       "    </tr>\n",
       "    <tr>\n",
       "      <th>1760</th>\n",
       "      <td>7.877</td>\n",
       "      <td>8.511</td>\n",
       "      <td>8.333</td>\n",
       "      <td>NaN</td>\n",
       "      <td>NaN</td>\n",
       "      <td>9.470</td>\n",
       "    </tr>\n",
       "    <tr>\n",
       "      <th>1761</th>\n",
       "      <td>7.956</td>\n",
       "      <td>8.483</td>\n",
       "      <td>8.272</td>\n",
       "      <td>NaN</td>\n",
       "      <td>NaN</td>\n",
       "      <td>9.426</td>\n",
       "    </tr>\n",
       "    <tr>\n",
       "      <th>1762</th>\n",
       "      <td>8.239</td>\n",
       "      <td>8.852</td>\n",
       "      <td>8.946</td>\n",
       "      <td>NaN</td>\n",
       "      <td>NaN</td>\n",
       "      <td>9.715</td>\n",
       "    </tr>\n",
       "    <tr>\n",
       "      <th>1763</th>\n",
       "      <td>8.150</td>\n",
       "      <td>8.842</td>\n",
       "      <td>8.717</td>\n",
       "      <td>NaN</td>\n",
       "      <td>NaN</td>\n",
       "      <td>9.653</td>\n",
       "    </tr>\n",
       "  </tbody>\n",
       "</table>\n",
       "</div>"
      ],
      "text/plain": [
       "      avg_temp_global  avg_temp_Berlin  avg_temp_NewYork  avg_temp_Tokyo  \\\n",
       "year                                                                       \n",
       "1759            8.030            8.595             8.567             NaN   \n",
       "1760            7.877            8.511             8.333             NaN   \n",
       "1761            7.956            8.483             8.272             NaN   \n",
       "1762            8.239            8.852             8.946             NaN   \n",
       "1763            8.150            8.842             8.717             NaN   \n",
       "\n",
       "      avg_temp_Wellington  avg_temp_Brussels  \n",
       "year                                          \n",
       "1759                  NaN              9.545  \n",
       "1760                  NaN              9.470  \n",
       "1761                  NaN              9.426  \n",
       "1762                  NaN              9.715  \n",
       "1763                  NaN              9.653  "
      ]
     },
     "execution_count": 7,
     "metadata": {},
     "output_type": "execute_result"
    }
   ],
   "source": [
    "#Load in cleaned data\n",
    "data = pd.read_csv('temp_data_clean.csv', index_col='year')\n",
    "data.head()"
   ]
  },
  {
   "cell_type": "code",
   "execution_count": 10,
   "metadata": {},
   "outputs": [
    {
     "data": {
      "text/plain": [
       "['avg_temp_global',\n",
       " 'avg_temp_Berlin',\n",
       " 'avg_temp_NewYork',\n",
       " 'avg_temp_Tokyo',\n",
       " 'avg_temp_Wellington',\n",
       " 'avg_temp_Brussels']"
      ]
     },
     "execution_count": 10,
     "metadata": {},
     "output_type": "execute_result"
    }
   ],
   "source": [
    "# Extracting column headers\n",
    "locations = data.columns.tolist()\n",
    "locations"
   ]
  },
  {
   "cell_type": "code",
   "execution_count": 11,
   "metadata": {},
   "outputs": [],
   "source": [
    "def warmingstripes(location):\n",
    "    temps = data[location]\n",
    "    stacked_temps = np.stack((temps,temps))\n",
    "\n",
    "    vmin = 5.9\n",
    "    vmax = 11\n",
    "    \n",
    "    ## plotting\n",
    "    plt.figure(figsize=(4,18))\n",
    "    \n",
    "    img = plt.imshow(stacked_temps, cmap='RdBu_r', aspect=40, )\n",
    "\n",
    "    plt.gca().set_axis_off()\n",
    "    plt.subplots_adjust(top = 1, bottom = 0, right = 1, left = 0,\n",
    "            hspace = 0, wspace = 0)\n",
    "    plt.margins(0,0)\n",
    "    plt.gca().xaxis.set_major_locator(plt.NullLocator())\n",
    "    plt.gca().yaxis.set_major_locator(plt.NullLocator())\n",
    "    \n",
    "    plt.title('Warmingstripes for {}'.format(location[9:]))\n",
    "\n",
    "    #save image   \n",
    "    plt.savefig('stripes_' + location[9:] +'_2.png', bbox_inches = 'tight',\n",
    "    pad_inches = 0, dpi=400)"
   ]
  },
  {
   "cell_type": "code",
   "execution_count": 12,
   "metadata": {
    "scrolled": true
   },
   "outputs": [
    {
     "data": {
      "image/png": "[encoded data removed]",
      "text/plain": [
       "<Figure size 288x1296 with 1 Axes>"
      ]
     },
     "metadata": {},
     "output_type": "display_data"
    }
   ],
   "source": [
    "# Warmingstripes for Brussels\n",
    "warmingstripes(locations[5])"
   ]
  },
  {
   "cell_type": "markdown",
   "metadata": {},
   "source": [
    "> *Missing - description*"
   ]
  },
  {
   "cell_type": "code",
   "execution_count": 13,
   "metadata": {},
   "outputs": [
    {
     "data": {
      "image/png": "[encoded data removed]",
      "text/plain": [
       "<Figure size 288x1296 with 1 Axes>"
      ]
     },
     "metadata": {},
     "output_type": "display_data"
    }
   ],
   "source": [
    "# Warmingstripes for global average\n",
    "warmingstripes(locations[0])"
   ]
  },
  {
   "cell_type": "markdown",
   "metadata": {},
   "source": [
    "> Missing - description"
   ]
  },
  {
   "cell_type": "markdown",
   "metadata": {},
   "source": [
    "## 3 Key Observations"
   ]
  }
 ],
 "metadata": {
  "kernelspec": {
   "display_name": "Python 3",
   "language": "python",
   "name": "python3"
  },
  "language_info": {
   "codemirror_mode": {
    "name": "ipython",
    "version": 3
   },
   "file_extension": ".py",
   "mimetype": "text/x-python",
   "name": "python",
   "nbconvert_exporter": "python",
   "pygments_lexer": "ipython3",
   "version": "3.6.5"
  }
 },
 "nbformat": 4,
 "nbformat_minor": 2
}
